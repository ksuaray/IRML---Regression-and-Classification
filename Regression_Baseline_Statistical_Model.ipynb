{
  "nbformat": 4,
  "nbformat_minor": 0,
  "metadata": {
    "colab": {
      "provenance": [],
      "authorship_tag": "ABX9TyNPX+pJqX6bHNzC21KsPqhu",
      "include_colab_link": true
    },
    "kernelspec": {
      "name": "python3",
      "display_name": "Python 3"
    },
    "language_info": {
      "name": "python"
    }
  },
  "cells": [
    {
      "cell_type": "markdown",
      "metadata": {
        "id": "view-in-github",
        "colab_type": "text"
      },
      "source": [
        "<a href=\"https://colab.research.google.com/github/ksuaray/IRML---Regression-and-Classification/blob/main/Regression_Baseline_Statistical_Model.ipynb\" target=\"_parent\"><img src=\"https://colab.research.google.com/assets/colab-badge.svg\" alt=\"Open In Colab\"/></a>"
      ]
    },
    {
      "cell_type": "markdown",
      "source": [
        "This is a sandbox Jupyter Notebook for the first unit of the Regression and Classification module, covering Baseline Statistical Models. This is the ideal place to start because classical statistical methodology is the perfect bridge to machine learning for higher ed professionals:\n",
        "\n",
        "*   it provides a familiar access point for most higher ed professionals. Most have taken at least an introductory statistics course at the undergraduate level, and many have taken upper division and/or graduate level research methods courses, which cover this content.\n",
        "*   The machine learning approach to problem solving, model selection and evaluation are rooted in statistical methodology.\n",
        "* Statistical methods provide well understood and developed methods for interpretation and inference of model parameters and predicted outcomes.\n",
        "\n"
      ],
      "metadata": {
        "id": "aVM99BjtQih5"
      }
    },
    {
      "cell_type": "code",
      "execution_count": 1,
      "metadata": {
        "id": "C_u3Ke-iQZBC"
      },
      "outputs": [],
      "source": [
        "import pandas as pd\n",
        "import statsmodels as sms\n",
        "import scipy as sp"
      ]
    }
  ]
}